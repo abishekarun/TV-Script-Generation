{
 "cells": [
  {
   "cell_type": "markdown",
   "metadata": {},
   "source": [
    "# TV Script Generation\n",
    "In this project, you'll generate your own [Simpsons](https://en.wikipedia.org/wiki/The_Simpsons) TV scripts using RNNs.  You'll be using part of the [Simpsons dataset](https://www.kaggle.com/wcukierski/the-simpsons-by-the-data) of scripts from 27 seasons.  The Neural Network you'll build will generate a new TV script for a scene at [Moe's Tavern](https://simpsonswiki.com/wiki/Moe's_Tavern).\n",
    "## Get the Data\n",
    "The data is already provided for you.  You'll be using a subset of the original dataset.  It consists of only the scenes in Moe's Tavern.  This doesn't include other versions of the tavern, like \"Moe's Cavern\", \"Flaming Moe's\", \"Uncle Moe's Family Feed-Bag\", etc.."
   ]
  },
  {
   "cell_type": "code",
   "execution_count": 1,
   "metadata": {},
   "outputs": [],
   "source": [
    "\"\"\"\n",
    "DON'T MODIFY ANYTHING IN THIS CELL\n",
    "\"\"\"\n",
    "import helper\n",
    "\n",
    "data_dir = './data/simpsons/moes_tavern_lines.txt'\n",
    "text = helper.load_data(data_dir)\n",
    "# Ignore notice, since we don't use it for analysing the data\n",
    "text = text[81:]"
   ]
  },
  {
   "cell_type": "markdown",
   "metadata": {},
   "source": [
    "## Explore the Data\n",
    "Play around with `view_sentence_range` to view different parts of the data."
   ]
  },
  {
   "cell_type": "code",
   "execution_count": 2,
   "metadata": {},
   "outputs": [
    {
     "name": "stdout",
     "output_type": "stream",
     "text": [
      "Dataset Stats\n",
      "Roughly the number of unique words: 11492\n",
      "Number of scenes: 262\n",
      "Average number of sentences in each scene: 15.248091603053435\n",
      "Number of lines: 4257\n",
      "Average number of words in each line: 11.50434578341555\n",
      "\n",
      "The sentences 10 to 20:\n",
      "Moe_Szyslak: Ah, isn't that nice. Now, there is a politician who cares.\n",
      "Barney_Gumble: If I ever vote, it'll be for him. (BELCH)\n",
      "\n",
      "\n",
      "Barney_Gumble: Hey Homer, how's your neighbor's store doing?\n",
      "Homer_Simpson: Lousy. He just sits there all day. He'd have a great job if he didn't own the place. (CHUCKLES)\n",
      "Moe_Szyslak: (STRUGGLING WITH CORKSCREW) Crummy right-handed corkscrews! What does he sell?\n",
      "Homer_Simpson: Uh, well actually, Moe...\n",
      "HOMER_(CONT'D: I dunno.\n",
      "\n"
     ]
    }
   ],
   "source": [
    "view_sentence_range = (10, 20)\n",
    "\n",
    "\"\"\"\n",
    "DON'T MODIFY ANYTHING IN THIS CELL\n",
    "\"\"\"\n",
    "import numpy as np\n",
    "\n",
    "print('Dataset Stats')\n",
    "print('Roughly the number of unique words: {}'.format(len({word: None for word in text.split()})))\n",
    "scenes = text.split('\\n\\n')\n",
    "print('Number of scenes: {}'.format(len(scenes)))\n",
    "sentence_count_scene = [scene.count('\\n') for scene in scenes]\n",
    "print('Average number of sentences in each scene: {}'.format(np.average(sentence_count_scene)))\n",
    "\n",
    "sentences = [sentence for scene in scenes for sentence in scene.split('\\n')]\n",
    "print('Number of lines: {}'.format(len(sentences)))\n",
    "word_count_sentence = [len(sentence.split()) for sentence in sentences]\n",
    "print('Average number of words in each line: {}'.format(np.average(word_count_sentence)))\n",
    "\n",
    "print()\n",
    "print('The sentences {} to {}:'.format(*view_sentence_range))\n",
    "print('\\n'.join(text.split('\\n')[view_sentence_range[0]:view_sentence_range[1]]))"
   ]
  },
  {
   "cell_type": "markdown",
   "metadata": {},
   "source": [
    "## Implement Preprocessing Functions\n",
    "The first thing to do to any dataset is preprocessing.  Implement the following preprocessing functions below:\n",
    "- Lookup Table\n",
    "- Tokenize Punctuation\n",
    "\n",
    "### Lookup Table\n",
    "To create a word embedding, you first need to transform the words to ids.  In this function, create two dictionaries:\n",
    "- Dictionary to go from the words to an id, we'll call `vocab_to_int`\n",
    "- Dictionary to go from the id to word, we'll call `int_to_vocab`\n",
    "\n",
    "Return these dictionaries in the following tuple `(vocab_to_int, int_to_vocab)`"
   ]
  },
  {
   "cell_type": "code",
   "execution_count": 3,
   "metadata": {},
   "outputs": [
    {
     "name": "stdout",
     "output_type": "stream",
     "text": [
      "Tests Passed\n"
     ]
    }
   ],
   "source": [
    "import numpy as np\n",
    "import problem_unittests as tests\n",
    "def create_lookup_tables(text):\n",
    "    \"\"\"\n",
    "    Create lookup tables for vocabulary\n",
    "    :param text: The text of tv scripts split into words\n",
    "    :return: A tuple of dicts (vocab_to_int, int_to_vocab)\n",
    "    \"\"\"\n",
    "    unique_words = set(text)\n",
    "    vocab_to_int = {word:i for i,word in enumerate(unique_words)}\n",
    "    int_to_vocab = {i:word for i,word in enumerate(unique_words)}\n",
    "    # TODO: Implement Function\n",
    "    return (vocab_to_int,int_to_vocab)\n",
    "\n",
    "\n",
    "\"\"\"\n",
    "DON'T MODIFY ANYTHING IN THIS CELL THAT IS BELOW THIS LINE\n",
    "\"\"\"\n",
    "tests.test_create_lookup_tables(create_lookup_tables)"
   ]
  },
  {
   "cell_type": "markdown",
   "metadata": {},
   "source": [
    "### Tokenize Punctuation\n",
    "We'll be splitting the script into a word array using spaces as delimiters.  However, punctuations like periods and exclamation marks make it hard for the neural network to distinguish between the word \"bye\" and \"bye!\".\n",
    "\n",
    "Implement the function `token_lookup` to return a dict that will be used to tokenize symbols like \"!\" into \"||Exclamation_Mark||\".  Create a dictionary for the following symbols where the symbol is the key and value is the token:\n",
    "- Period ( . )\n",
    "- Comma ( , )\n",
    "- Quotation Mark ( \" )\n",
    "- Semicolon ( ; )\n",
    "- Exclamation mark ( ! )\n",
    "- Question mark ( ? )\n",
    "- Left Parentheses ( ( )\n",
    "- Right Parentheses ( ) )\n",
    "- Dash ( -- )\n",
    "- Return ( \\n )\n",
    "\n",
    "This dictionary will be used to token the symbols and add the delimiter (space) around it.  This separates the symbols as it's own word, making it easier for the neural network to predict on the next word. Make sure you don't use a token that could be confused as a word. Instead of using the token \"dash\", try using something like \"||dash||\"."
   ]
  },
  {
   "cell_type": "code",
   "execution_count": 4,
   "metadata": {},
   "outputs": [
    {
     "name": "stdout",
     "output_type": "stream",
     "text": [
      "Tests Passed\n"
     ]
    }
   ],
   "source": [
    "def token_lookup():\n",
    "    \"\"\"\n",
    "    Generate a dict to turn punctuation into a token.\n",
    "    :return: Tokenize dictionary where the key is the punctuation and the value is the token\n",
    "    \"\"\"\n",
    "    # TODO: Implement Function\n",
    "    punctuation_token={}\n",
    "    punctuation_token[\".\"]=\"||dot||\"\n",
    "    punctuation_token[\",\"]=\"||comma||\"\n",
    "    punctuation_token[\"\\\"\"]=\"|quotation_mark||\"\n",
    "    punctuation_token[\";\"]=\"||semicolon||\"\n",
    "    punctuation_token[\"!\"]=\"||exclamation||\"\n",
    "    punctuation_token[\"?\"]=\"||question_mark||\"\n",
    "    punctuation_token[\"(\"]=\"||left_parantheses||\"\n",
    "    punctuation_token[\")\"]=\"||right_parantheses||\"\n",
    "    punctuation_token[\"--\"]=\"||dash||\"\n",
    "    punctuation_token[\"\\n\"]=\"||return||\"\n",
    "    return punctuation_token\n",
    "\n",
    "\"\"\"\n",
    "DON'T MODIFY ANYTHING IN THIS CELL THAT IS BELOW THIS LINE\n",
    "\"\"\"\n",
    "tests.test_tokenize(token_lookup)"
   ]
  },
  {
   "cell_type": "markdown",
   "metadata": {},
   "source": [
    "## Preprocess all the data and save it\n",
    "Running the code cell below will preprocess all the data and save it to file."
   ]
  },
  {
   "cell_type": "code",
   "execution_count": 5,
   "metadata": {},
   "outputs": [],
   "source": [
    "\"\"\"\n",
    "DON'T MODIFY ANYTHING IN THIS CELL\n",
    "\"\"\"\n",
    "# Preprocess Training, Validation, and Testing Data\n",
    "helper.preprocess_and_save_data(data_dir, token_lookup, create_lookup_tables)"
   ]
  },
  {
   "cell_type": "markdown",
   "metadata": {},
   "source": [
    "# Check Point\n",
    "This is your first checkpoint. If you ever decide to come back to this notebook or have to restart the notebook, you can start from here. The preprocessed data has been saved to disk."
   ]
  },
  {
   "cell_type": "code",
   "execution_count": 6,
   "metadata": {},
   "outputs": [],
   "source": [
    "\"\"\"\n",
    "DON'T MODIFY ANYTHING IN THIS CELL\n",
    "\"\"\"\n",
    "import helper\n",
    "import numpy as np\n",
    "import problem_unittests as tests\n",
    "\n",
    "int_text, vocab_to_int, int_to_vocab, token_dict = helper.load_preprocess()"
   ]
  },
  {
   "cell_type": "markdown",
   "metadata": {},
   "source": [
    "## Build the Neural Network\n",
    "You'll build the components necessary to build a RNN by implementing the following functions below:\n",
    "- get_inputs\n",
    "- get_init_cell\n",
    "- get_embed\n",
    "- build_rnn\n",
    "- build_nn\n",
    "- get_batches\n",
    "\n",
    "### Check the Version of TensorFlow and Access to GPU"
   ]
  },
  {
   "cell_type": "code",
   "execution_count": 7,
   "metadata": {},
   "outputs": [
    {
     "name": "stdout",
     "output_type": "stream",
     "text": [
      "TensorFlow Version: 1.3.0\n",
      "Default GPU Device: /gpu:0\n"
     ]
    }
   ],
   "source": [
    "\"\"\"\n",
    "DON'T MODIFY ANYTHING IN THIS CELL\n",
    "\"\"\"\n",
    "from distutils.version import LooseVersion\n",
    "import warnings\n",
    "import tensorflow as tf\n",
    "\n",
    "# Check TensorFlow Version\n",
    "assert LooseVersion(tf.__version__) >= LooseVersion('1.3'), 'Please use TensorFlow version 1.3 or newer'\n",
    "print('TensorFlow Version: {}'.format(tf.__version__))\n",
    "\n",
    "# Check for a GPU\n",
    "if not tf.test.gpu_device_name():\n",
    "    warnings.warn('No GPU found. Please use a GPU to train your neural network.')\n",
    "else:\n",
    "    print('Default GPU Device: {}'.format(tf.test.gpu_device_name()))"
   ]
  },
  {
   "cell_type": "markdown",
   "metadata": {},
   "source": [
    "### Input\n",
    "Implement the `get_inputs()` function to create TF Placeholders for the Neural Network.  It should create the following placeholders:\n",
    "- Input text placeholder named \"input\" using the [TF Placeholder](https://www.tensorflow.org/api_docs/python/tf/placeholder) `name` parameter.\n",
    "- Targets placeholder\n",
    "- Learning Rate placeholder\n",
    "\n",
    "Return the placeholders in the following tuple `(Input, Targets, LearningRate)`"
   ]
  },
  {
   "cell_type": "code",
   "execution_count": 8,
   "metadata": {},
   "outputs": [
    {
     "name": "stdout",
     "output_type": "stream",
     "text": [
      "Tests Passed\n"
     ]
    }
   ],
   "source": [
    "def get_inputs():\n",
    "    \"\"\"\n",
    "    Create TF Placeholders for input, targets, and learning rate.\n",
    "    :return: Tuple (input, targets, learning rate)\n",
    "    \"\"\"\n",
    "    # TODO: Implement Function\n",
    "    Input=tf.placeholder(tf.int32,[None,None],name=\"input\")\n",
    "    Targets=tf.placeholder(tf.int32,[None,None])\n",
    "    LearningRate=tf.placeholder(tf.float32)\n",
    "    return (Input, Targets, LearningRate)\n",
    "\n",
    "\n",
    "\"\"\"\n",
    "DON'T MODIFY ANYTHING IN THIS CELL THAT IS BELOW THIS LINE\n",
    "\"\"\"\n",
    "tests.test_get_inputs(get_inputs)"
   ]
  },
  {
   "cell_type": "markdown",
   "metadata": {},
   "source": [
    "### Build RNN Cell and Initialize\n",
    "Stack one or more [`BasicLSTMCells`](https://www.tensorflow.org/api_docs/python/tf/contrib/rnn/BasicLSTMCell) in a [`MultiRNNCell`](https://www.tensorflow.org/api_docs/python/tf/contrib/rnn/MultiRNNCell).\n",
    "- The Rnn size should be set using `rnn_size`\n",
    "- Initalize Cell State using the MultiRNNCell's [`zero_state()`](https://www.tensorflow.org/api_docs/python/tf/contrib/rnn/MultiRNNCell#zero_state) function\n",
    "    - Apply the name \"initial_state\" to the initial state using [`tf.identity()`](https://www.tensorflow.org/api_docs/python/tf/identity)\n",
    "\n",
    "Return the cell and initial state in the following tuple `(Cell, InitialState)`"
   ]
  },
  {
   "cell_type": "code",
   "execution_count": 9,
   "metadata": {},
   "outputs": [
    {
     "name": "stdout",
     "output_type": "stream",
     "text": [
      "Tests Passed\n"
     ]
    }
   ],
   "source": [
    "def get_init_cell(batch_size, rnn_size,num_layers=2):\n",
    "    \"\"\"\n",
    "    Create an RNN Cell and initialize it.\n",
    "    :param batch_size: Size of batches\n",
    "    :param rnn_size: Size of RNNs\n",
    "    :return: Tuple (cell, initialize state)\n",
    "    \"\"\"\n",
    "    # TODO: Implement Function\n",
    "    def lstm_cell():\n",
    "          return tf.contrib.rnn.BasicLSTMCell(rnn_size)\n",
    "    stacked_lstm = tf.contrib.rnn.MultiRNNCell(\n",
    "    [lstm_cell() for _ in range(num_layers)])\n",
    "    \n",
    "    initial_state = stacked_lstm.zero_state(batch_size, tf.float32)\n",
    "    initial_state = tf.identity(initial_state, 'initial_state')\n",
    "    return (stacked_lstm,initial_state)\n",
    "\n",
    "\n",
    "\"\"\"\n",
    "DON'T MODIFY ANYTHING IN THIS CELL THAT IS BELOW THIS LINE\n",
    "\"\"\"\n",
    "tests.test_get_init_cell(get_init_cell)"
   ]
  },
  {
   "cell_type": "markdown",
   "metadata": {},
   "source": [
    "### Word Embedding\n",
    "Apply embedding to `input_data` using TensorFlow.  Return the embedded sequence."
   ]
  },
  {
   "cell_type": "code",
   "execution_count": 10,
   "metadata": {},
   "outputs": [
    {
     "name": "stdout",
     "output_type": "stream",
     "text": [
      "Tests Passed\n"
     ]
    }
   ],
   "source": [
    "def get_embed(input_data, vocab_size, embed_dim):\n",
    "    \"\"\"\n",
    "    Create embedding for <input_data>.\n",
    "    :param input_data: TF placeholder for text input.\n",
    "    :param vocab_size: Number of words in vocabulary.\n",
    "    :param embed_dim: Number of embedding dimensions\n",
    "    :return: Embedded input.\n",
    "    \"\"\"\n",
    "    # TODO: Implement Function\n",
    "    embed=tf.Variable(tf.random_uniform((vocab_size,embed_dim),-1,1))\n",
    "    embedded_input = tf.nn.embedding_lookup(embed,input_data)\n",
    "    return embedded_input\n",
    "\n",
    "\n",
    "\"\"\"\n",
    "DON'T MODIFY ANYTHING IN THIS CELL THAT IS BELOW THIS LINE\n",
    "\"\"\"\n",
    "tests.test_get_embed(get_embed)"
   ]
  },
  {
   "cell_type": "markdown",
   "metadata": {},
   "source": [
    "### Build RNN\n",
    "You created a RNN Cell in the `get_init_cell()` function.  Time to use the cell to create a RNN.\n",
    "- Build the RNN using the [`tf.nn.dynamic_rnn()`](https://www.tensorflow.org/api_docs/python/tf/nn/dynamic_rnn)\n",
    " - Apply the name \"final_state\" to the final state using [`tf.identity()`](https://www.tensorflow.org/api_docs/python/tf/identity)\n",
    "\n",
    "Return the outputs and final_state state in the following tuple `(Outputs, FinalState)` "
   ]
  },
  {
   "cell_type": "code",
   "execution_count": 11,
   "metadata": {},
   "outputs": [
    {
     "name": "stdout",
     "output_type": "stream",
     "text": [
      "Tests Passed\n"
     ]
    }
   ],
   "source": [
    "def build_rnn(cell, inputs):\n",
    "    \"\"\"\n",
    "    Create a RNN using a RNN Cell\n",
    "    :param cell: RNN Cell\n",
    "    :param inputs: Input text data\n",
    "    :return: Tuple (Outputs, Final State)\n",
    "    \"\"\"\n",
    "    # TODO: Implement Function\n",
    "    output,FinalState = tf.nn.dynamic_rnn(cell,inputs,dtype=tf.float32)\n",
    "    FinalState = tf.identity(FinalState,name=\"final_state\")\n",
    "    return output,FinalState\n",
    "\n",
    "\"\"\"\n",
    "DON'T MODIFY ANYTHING IN THIS CELL THAT IS BELOW THIS LINE\n",
    "\"\"\"\n",
    "tests.test_build_rnn(build_rnn)"
   ]
  },
  {
   "cell_type": "markdown",
   "metadata": {},
   "source": [
    "### Build the Neural Network\n",
    "Apply the functions you implemented above to:\n",
    "- Apply embedding to `input_data` using your `get_embed(input_data, vocab_size, embed_dim)` function.\n",
    "- Build RNN using `cell` and your `build_rnn(cell, inputs)` function.\n",
    "- Apply a fully connected layer with a linear activation and `vocab_size` as the number of outputs.\n",
    "\n",
    "Return the logits and final state in the following tuple (Logits, FinalState) "
   ]
  },
  {
   "cell_type": "code",
   "execution_count": 12,
   "metadata": {},
   "outputs": [
    {
     "name": "stdout",
     "output_type": "stream",
     "text": [
      "Tests Passed\n"
     ]
    }
   ],
   "source": [
    "def build_nn(cell, rnn_size, input_data, vocab_size, embed_dim):\n",
    "    \"\"\"\n",
    "    Build part of the neural network\n",
    "    :param cell: RNN cell\n",
    "    :param rnn_size: Size of rnns\n",
    "    :param input_data: Input data\n",
    "    :param vocab_size: Vocabulary size\n",
    "    :param embed_dim: Number of embedding dimensions\n",
    "    :return: Tuple (Logits, FinalState)\n",
    "    \"\"\"\n",
    "    # TODO: Implement Function\n",
    "    embedded_input=get_embed(input_data,vocab_size,embed_dim)\n",
    "    #print(embedded_input.shape)\n",
    "    output,FinalState = build_rnn(cell,embedded_input)\n",
    "    logits = tf.layers.dense(output, vocab_size, activation= None, use_bias=True)\n",
    "    \n",
    "    return (logits,FinalState)\n",
    "\n",
    "\n",
    "\"\"\"\n",
    "DON'T MODIFY ANYTHING IN THIS CELL THAT IS BELOW THIS LINE\n",
    "\"\"\"\n",
    "tests.test_build_nn(build_nn)"
   ]
  },
  {
   "cell_type": "markdown",
   "metadata": {},
   "source": [
    "### Batches\n",
    "Implement `get_batches` to create batches of input and targets using `int_text`.  The batches should be a Numpy array with the shape `(number of batches, 2, batch size, sequence length)`. Each batch contains two elements:\n",
    "- The first element is a single batch of **input** with the shape `[batch size, sequence length]`\n",
    "- The second element is a single batch of **targets** with the shape `[batch size, sequence length]`\n",
    "\n",
    "If you can't fill the last batch with enough data, drop the last batch.\n",
    "\n",
    "For example, `get_batches([1, 2, 3, 4, 5, 6, 7, 8, 9, 10, 11, 12, 13, 14, 15, 16, 17, 18, 19, 20], 3, 2)` would return a Numpy array of the following:\n",
    "```\n",
    "[\n",
    "  # First Batch\n",
    "  [\n",
    "    # Batch of Input\n",
    "    [[ 1  2], [ 7  8], [13 14]]\n",
    "    # Batch of targets\n",
    "    [[ 2  3], [ 8  9], [14 15]]\n",
    "  ]\n",
    "\n",
    "  # Second Batch\n",
    "  [\n",
    "    # Batch of Input\n",
    "    [[ 3  4], [ 9 10], [15 16]]\n",
    "    # Batch of targets\n",
    "    [[ 4  5], [10 11], [16 17]]\n",
    "  ]\n",
    "\n",
    "  # Third Batch\n",
    "  [\n",
    "    # Batch of Input\n",
    "    [[ 5  6], [11 12], [17 18]]\n",
    "    # Batch of targets\n",
    "    [[ 6  7], [12 13], [18  1]]\n",
    "  ]\n",
    "]\n",
    "```\n",
    "\n",
    "Notice that the last target value in the last batch is the first input value of the first batch. In this case, `1`. This is a common technique used when creating sequence batches, although it is rather unintuitive."
   ]
  },
  {
   "cell_type": "code",
   "execution_count": 13,
   "metadata": {},
   "outputs": [
    {
     "name": "stdout",
     "output_type": "stream",
     "text": [
      "Tests Passed\n"
     ]
    }
   ],
   "source": [
    "def get_batches(int_text, batch_size, seq_length):\n",
    "    \"\"\"\n",
    "    Return batches of input and target\n",
    "    :param int_text: Text with the words replaced by their ids\n",
    "    :param batch_size: The size of batch\n",
    "    :param seq_length: The length of sequence\n",
    "    :return: Batches as a Numpy array\n",
    "    \"\"\"\n",
    "    # TODO: Implement Function\n",
    "    size=batch_size*seq_length\n",
    "    number_of_batches=int(len(int_text)/(size))\n",
    "    output=np.zeros((number_of_batches,2,batch_size,seq_length))\n",
    "    int_text=int_text[:number_of_batches*size]\n",
    "    int_text = np.reshape(int_text,(batch_size,-1))\n",
    "    n_cols=int_text.shape[1]\n",
    "    for i in range(0,n_cols,seq_length):\n",
    "        x=int_text[:,i:i+seq_length]\n",
    "        y=int_text[:,i+1:i+seq_length+1]\n",
    "        index=int(i/seq_length)\n",
    "        output[index][0]=x\n",
    "        output[index][1][:,:y.shape[1]]=y\n",
    "    return output\n",
    "# Last word has no output label. Hence error\n",
    "\n",
    "\"\"\"\n",
    "DON'T MODIFY ANYTHING IN THIS CELL THAT IS BELOW THIS LINE\n",
    "\"\"\"\n",
    "tests.test_get_batches(get_batches)"
   ]
  },
  {
   "cell_type": "markdown",
   "metadata": {},
   "source": [
    "## Neural Network Training\n",
    "### Hyperparameters\n",
    "Tune the following parameters:\n",
    "\n",
    "- Set `num_epochs` to the number of epochs.\n",
    "- Set `batch_size` to the batch size.\n",
    "- Set `rnn_size` to the size of the RNNs.\n",
    "- Set `embed_dim` to the size of the embedding.\n",
    "- Set `seq_length` to the length of sequence.\n",
    "- Set `learning_rate` to the learning rate.\n",
    "- Set `show_every_n_batches` to the number of batches the neural network should print progress."
   ]
  },
  {
   "cell_type": "code",
   "execution_count": 14,
   "metadata": {},
   "outputs": [],
   "source": [
    "# Number of Epochs\n",
    "num_epochs = 200\n",
    "# Batch Size\n",
    "batch_size = 64\n",
    "# RNN Size\n",
    "rnn_size = 512\n",
    "# No of layers\n",
    "layers=2\n",
    "# Embedding Dimension Size\n",
    "embed_dim = 128\n",
    "# Sequence Length\n",
    "seq_length = 32\n",
    "# Learning Rate\n",
    "learning_rate = 0.001\n",
    "# Show stats for every n number of batches\n",
    "show_every_n_batches = 33\n",
    "\n",
    "\"\"\"\n",
    "DON'T MODIFY ANYTHING IN THIS CELL THAT IS BELOW THIS LINE\n",
    "\"\"\"\n",
    "save_dir = './save'"
   ]
  },
  {
   "cell_type": "markdown",
   "metadata": {},
   "source": [
    "### Build the Graph\n",
    "Build the graph using the neural network you implemented."
   ]
  },
  {
   "cell_type": "code",
   "execution_count": 15,
   "metadata": {
    "scrolled": false
   },
   "outputs": [],
   "source": [
    "\"\"\"\n",
    "DON'T MODIFY ANYTHING IN THIS CELL\n",
    "\"\"\"\n",
    "from tensorflow.contrib import seq2seq\n",
    "\n",
    "train_graph = tf.Graph()\n",
    "with train_graph.as_default():\n",
    "    vocab_size = len(int_to_vocab)\n",
    "    input_text, targets, lr = get_inputs()\n",
    "    input_data_shape = tf.shape(input_text)\n",
    "    cell, initial_state = get_init_cell(input_data_shape[0], rnn_size,layers)\n",
    "    logits, final_state = build_nn(cell, rnn_size, input_text, vocab_size, embed_dim)\n",
    "\n",
    "    # Probabilities for generating words\n",
    "    probs = tf.nn.softmax(logits, name='probs')\n",
    "\n",
    "    # Loss function\n",
    "    cost = seq2seq.sequence_loss(\n",
    "        logits,\n",
    "        targets,\n",
    "        tf.ones([input_data_shape[0], input_data_shape[1]]))\n",
    "\n",
    "    # Optimizer\n",
    "    optimizer = tf.train.AdamOptimizer(lr)\n",
    "\n",
    "    # Gradient Clipping\n",
    "    gradients = optimizer.compute_gradients(cost)\n",
    "    capped_gradients = [(tf.clip_by_value(grad, -1., 1.), var) for grad, var in gradients if grad is not None]\n",
    "    train_op = optimizer.apply_gradients(capped_gradients)"
   ]
  },
  {
   "cell_type": "markdown",
   "metadata": {},
   "source": [
    "## Train\n",
    "Train the neural network on the preprocessed data.  If you have a hard time getting a good loss, check the [forums](https://discussions.udacity.com/) to see if anyone is having the same problem."
   ]
  },
  {
   "cell_type": "code",
   "execution_count": 16,
   "metadata": {},
   "outputs": [
    {
     "name": "stdout",
     "output_type": "stream",
     "text": [
      "Epoch   0 Batch    0/33   train_loss = 8.820\n",
      "Epoch   1 Batch    0/33   train_loss = 6.219\n",
      "Epoch   2 Batch    0/33   train_loss = 6.019\n",
      "Epoch   3 Batch    0/33   train_loss = 5.972\n",
      "Epoch   4 Batch    0/33   train_loss = 5.965\n",
      "Epoch   5 Batch    0/33   train_loss = 5.948\n",
      "Epoch   6 Batch    0/33   train_loss = 5.893\n",
      "Epoch   7 Batch    0/33   train_loss = 5.790\n",
      "Epoch   8 Batch    0/33   train_loss = 5.695\n",
      "Epoch   9 Batch    0/33   train_loss = 5.622\n",
      "Epoch  10 Batch    0/33   train_loss = 5.563\n",
      "Epoch  11 Batch    0/33   train_loss = 5.496\n",
      "Epoch  12 Batch    0/33   train_loss = 5.439\n",
      "Epoch  13 Batch    0/33   train_loss = 5.388\n",
      "Epoch  14 Batch    0/33   train_loss = 5.313\n",
      "Epoch  15 Batch    0/33   train_loss = 5.250\n",
      "Epoch  16 Batch    0/33   train_loss = 5.176\n",
      "Epoch  17 Batch    0/33   train_loss = 5.097\n",
      "Epoch  18 Batch    0/33   train_loss = 5.006\n",
      "Epoch  19 Batch    0/33   train_loss = 4.887\n",
      "Epoch  20 Batch    0/33   train_loss = 4.778\n",
      "Epoch  21 Batch    0/33   train_loss = 4.694\n",
      "Epoch  22 Batch    0/33   train_loss = 4.621\n",
      "Epoch  23 Batch    0/33   train_loss = 4.555\n",
      "Epoch  24 Batch    0/33   train_loss = 4.484\n",
      "Epoch  25 Batch    0/33   train_loss = 4.417\n",
      "Epoch  26 Batch    0/33   train_loss = 4.351\n",
      "Epoch  27 Batch    0/33   train_loss = 4.292\n",
      "Epoch  28 Batch    0/33   train_loss = 4.233\n",
      "Epoch  29 Batch    0/33   train_loss = 4.179\n",
      "Epoch  30 Batch    0/33   train_loss = 4.136\n",
      "Epoch  31 Batch    0/33   train_loss = 4.082\n",
      "Epoch  32 Batch    0/33   train_loss = 4.042\n",
      "Epoch  33 Batch    0/33   train_loss = 4.010\n",
      "Epoch  34 Batch    0/33   train_loss = 3.928\n",
      "Epoch  35 Batch    0/33   train_loss = 3.884\n",
      "Epoch  36 Batch    0/33   train_loss = 3.825\n",
      "Epoch  37 Batch    0/33   train_loss = 3.771\n",
      "Epoch  38 Batch    0/33   train_loss = 3.740\n",
      "Epoch  39 Batch    0/33   train_loss = 3.729\n",
      "Epoch  40 Batch    0/33   train_loss = 3.654\n",
      "Epoch  41 Batch    0/33   train_loss = 3.592\n",
      "Epoch  42 Batch    0/33   train_loss = 3.572\n",
      "Epoch  43 Batch    0/33   train_loss = 3.563\n",
      "Epoch  44 Batch    0/33   train_loss = 3.493\n",
      "Epoch  45 Batch    0/33   train_loss = 3.446\n",
      "Epoch  46 Batch    0/33   train_loss = 3.425\n",
      "Epoch  47 Batch    0/33   train_loss = 3.355\n",
      "Epoch  48 Batch    0/33   train_loss = 3.294\n",
      "Epoch  49 Batch    0/33   train_loss = 3.244\n",
      "Epoch  50 Batch    0/33   train_loss = 3.174\n",
      "Epoch  51 Batch    0/33   train_loss = 3.100\n",
      "Epoch  52 Batch    0/33   train_loss = 3.068\n",
      "Epoch  53 Batch    0/33   train_loss = 3.053\n",
      "Epoch  54 Batch    0/33   train_loss = 2.975\n",
      "Epoch  55 Batch    0/33   train_loss = 2.895\n",
      "Epoch  56 Batch    0/33   train_loss = 2.838\n",
      "Epoch  57 Batch    0/33   train_loss = 2.794\n",
      "Epoch  58 Batch    0/33   train_loss = 2.760\n",
      "Epoch  59 Batch    0/33   train_loss = 2.664\n",
      "Epoch  60 Batch    0/33   train_loss = 2.608\n",
      "Epoch  61 Batch    0/33   train_loss = 2.583\n",
      "Epoch  62 Batch    0/33   train_loss = 2.537\n",
      "Epoch  63 Batch    0/33   train_loss = 2.462\n",
      "Epoch  64 Batch    0/33   train_loss = 2.439\n",
      "Epoch  65 Batch    0/33   train_loss = 2.459\n",
      "Epoch  66 Batch    0/33   train_loss = 2.411\n",
      "Epoch  67 Batch    0/33   train_loss = 2.308\n",
      "Epoch  68 Batch    0/33   train_loss = 2.237\n",
      "Epoch  69 Batch    0/33   train_loss = 2.203\n",
      "Epoch  70 Batch    0/33   train_loss = 2.130\n",
      "Epoch  71 Batch    0/33   train_loss = 2.068\n",
      "Epoch  72 Batch    0/33   train_loss = 2.018\n",
      "Epoch  73 Batch    0/33   train_loss = 2.003\n",
      "Epoch  74 Batch    0/33   train_loss = 1.954\n",
      "Epoch  75 Batch    0/33   train_loss = 1.910\n",
      "Epoch  76 Batch    0/33   train_loss = 1.861\n",
      "Epoch  77 Batch    0/33   train_loss = 1.829\n",
      "Epoch  78 Batch    0/33   train_loss = 1.821\n",
      "Epoch  79 Batch    0/33   train_loss = 1.745\n",
      "Epoch  80 Batch    0/33   train_loss = 1.729\n",
      "Epoch  81 Batch    0/33   train_loss = 1.719\n",
      "Epoch  82 Batch    0/33   train_loss = 1.661\n",
      "Epoch  83 Batch    0/33   train_loss = 1.622\n",
      "Epoch  84 Batch    0/33   train_loss = 1.597\n",
      "Epoch  85 Batch    0/33   train_loss = 1.632\n",
      "Epoch  86 Batch    0/33   train_loss = 1.607\n",
      "Epoch  87 Batch    0/33   train_loss = 1.561\n",
      "Epoch  88 Batch    0/33   train_loss = 1.533\n",
      "Epoch  89 Batch    0/33   train_loss = 1.461\n",
      "Epoch  90 Batch    0/33   train_loss = 1.418\n",
      "Epoch  91 Batch    0/33   train_loss = 1.395\n",
      "Epoch  92 Batch    0/33   train_loss = 1.352\n",
      "Epoch  93 Batch    0/33   train_loss = 1.309\n",
      "Epoch  94 Batch    0/33   train_loss = 1.297\n",
      "Epoch  95 Batch    0/33   train_loss = 1.233\n",
      "Epoch  96 Batch    0/33   train_loss = 1.212\n",
      "Epoch  97 Batch    0/33   train_loss = 1.177\n",
      "Epoch  98 Batch    0/33   train_loss = 1.178\n",
      "Epoch  99 Batch    0/33   train_loss = 1.120\n",
      "Epoch 100 Batch    0/33   train_loss = 1.073\n",
      "Epoch 101 Batch    0/33   train_loss = 1.057\n",
      "Epoch 102 Batch    0/33   train_loss = 1.055\n",
      "Epoch 103 Batch    0/33   train_loss = 1.049\n",
      "Epoch 104 Batch    0/33   train_loss = 1.012\n",
      "Epoch 105 Batch    0/33   train_loss = 0.941\n",
      "Epoch 106 Batch    0/33   train_loss = 0.946\n",
      "Epoch 107 Batch    0/33   train_loss = 0.944\n",
      "Epoch 108 Batch    0/33   train_loss = 0.898\n",
      "Epoch 109 Batch    0/33   train_loss = 0.892\n",
      "Epoch 110 Batch    0/33   train_loss = 0.842\n",
      "Epoch 111 Batch    0/33   train_loss = 0.809\n",
      "Epoch 112 Batch    0/33   train_loss = 0.826\n",
      "Epoch 113 Batch    0/33   train_loss = 0.835\n",
      "Epoch 114 Batch    0/33   train_loss = 0.796\n",
      "Epoch 115 Batch    0/33   train_loss = 0.741\n",
      "Epoch 116 Batch    0/33   train_loss = 0.754\n",
      "Epoch 117 Batch    0/33   train_loss = 0.701\n",
      "Epoch 118 Batch    0/33   train_loss = 0.674\n",
      "Epoch 119 Batch    0/33   train_loss = 0.635\n",
      "Epoch 120 Batch    0/33   train_loss = 0.613\n",
      "Epoch 121 Batch    0/33   train_loss = 0.583\n",
      "Epoch 122 Batch    0/33   train_loss = 0.561\n",
      "Epoch 123 Batch    0/33   train_loss = 0.577\n",
      "Epoch 124 Batch    0/33   train_loss = 0.538\n",
      "Epoch 125 Batch    0/33   train_loss = 0.486\n",
      "Epoch 126 Batch    0/33   train_loss = 0.458\n",
      "Epoch 127 Batch    0/33   train_loss = 0.431\n",
      "Epoch 128 Batch    0/33   train_loss = 0.417\n",
      "Epoch 129 Batch    0/33   train_loss = 0.399\n",
      "Epoch 130 Batch    0/33   train_loss = 0.376\n",
      "Epoch 131 Batch    0/33   train_loss = 0.364\n",
      "Epoch 132 Batch    0/33   train_loss = 0.362\n",
      "Epoch 133 Batch    0/33   train_loss = 0.340\n",
      "Epoch 134 Batch    0/33   train_loss = 0.328\n",
      "Epoch 135 Batch    0/33   train_loss = 0.327\n",
      "Epoch 136 Batch    0/33   train_loss = 0.321\n",
      "Epoch 137 Batch    0/33   train_loss = 0.302\n",
      "Epoch 138 Batch    0/33   train_loss = 0.295\n",
      "Epoch 139 Batch    0/33   train_loss = 0.284\n",
      "Epoch 140 Batch    0/33   train_loss = 0.262\n",
      "Epoch 141 Batch    0/33   train_loss = 0.249\n",
      "Epoch 142 Batch    0/33   train_loss = 0.238\n",
      "Epoch 143 Batch    0/33   train_loss = 0.237\n",
      "Epoch 144 Batch    0/33   train_loss = 0.228\n",
      "Epoch 145 Batch    0/33   train_loss = 0.218\n",
      "Epoch 146 Batch    0/33   train_loss = 0.211\n",
      "Epoch 147 Batch    0/33   train_loss = 0.209\n",
      "Epoch 148 Batch    0/33   train_loss = 0.201\n",
      "Epoch 149 Batch    0/33   train_loss = 0.193\n",
      "Epoch 150 Batch    0/33   train_loss = 0.195\n",
      "Epoch 151 Batch    0/33   train_loss = 0.190\n",
      "Epoch 152 Batch    0/33   train_loss = 0.189\n",
      "Epoch 153 Batch    0/33   train_loss = 0.181\n",
      "Epoch 154 Batch    0/33   train_loss = 0.179\n",
      "Epoch 155 Batch    0/33   train_loss = 0.170\n",
      "Epoch 156 Batch    0/33   train_loss = 0.167\n",
      "Epoch 157 Batch    0/33   train_loss = 0.159\n",
      "Epoch 158 Batch    0/33   train_loss = 0.161\n",
      "Epoch 159 Batch    0/33   train_loss = 0.156\n",
      "Epoch 160 Batch    0/33   train_loss = 0.151\n",
      "Epoch 161 Batch    0/33   train_loss = 0.151\n",
      "Epoch 162 Batch    0/33   train_loss = 0.151\n",
      "Epoch 163 Batch    0/33   train_loss = 0.149\n",
      "Epoch 164 Batch    0/33   train_loss = 0.143\n",
      "Epoch 165 Batch    0/33   train_loss = 0.142\n",
      "Epoch 166 Batch    0/33   train_loss = 0.139\n",
      "Epoch 167 Batch    0/33   train_loss = 0.134\n",
      "Epoch 168 Batch    0/33   train_loss = 0.132\n",
      "Epoch 169 Batch    0/33   train_loss = 0.128\n",
      "Epoch 170 Batch    0/33   train_loss = 0.127\n",
      "Epoch 171 Batch    0/33   train_loss = 0.127\n",
      "Epoch 172 Batch    0/33   train_loss = 0.127\n",
      "Epoch 173 Batch    0/33   train_loss = 0.125\n",
      "Epoch 174 Batch    0/33   train_loss = 0.121\n",
      "Epoch 175 Batch    0/33   train_loss = 0.117\n",
      "Epoch 176 Batch    0/33   train_loss = 0.115\n",
      "Epoch 177 Batch    0/33   train_loss = 0.113\n",
      "Epoch 178 Batch    0/33   train_loss = 0.111\n",
      "Epoch 179 Batch    0/33   train_loss = 0.110\n",
      "Epoch 180 Batch    0/33   train_loss = 0.108\n",
      "Epoch 181 Batch    0/33   train_loss = 0.107\n",
      "Epoch 182 Batch    0/33   train_loss = 0.107\n"
     ]
    },
    {
     "name": "stdout",
     "output_type": "stream",
     "text": [
      "Epoch 183 Batch    0/33   train_loss = 0.106\n",
      "Epoch 184 Batch    0/33   train_loss = 0.105\n",
      "Epoch 185 Batch    0/33   train_loss = 0.105\n",
      "Epoch 186 Batch    0/33   train_loss = 0.106\n",
      "Epoch 187 Batch    0/33   train_loss = 0.105\n",
      "Epoch 188 Batch    0/33   train_loss = 0.105\n",
      "Epoch 189 Batch    0/33   train_loss = 0.104\n",
      "Epoch 190 Batch    0/33   train_loss = 0.104\n",
      "Epoch 191 Batch    0/33   train_loss = 0.103\n",
      "Epoch 192 Batch    0/33   train_loss = 0.102\n",
      "Epoch 193 Batch    0/33   train_loss = 0.101\n",
      "Epoch 194 Batch    0/33   train_loss = 0.101\n",
      "Epoch 195 Batch    0/33   train_loss = 0.100\n",
      "Epoch 196 Batch    0/33   train_loss = 0.099\n",
      "Epoch 197 Batch    0/33   train_loss = 0.098\n",
      "Epoch 198 Batch    0/33   train_loss = 0.097\n",
      "Epoch 199 Batch    0/33   train_loss = 0.097\n",
      "Model Trained and Saved\n"
     ]
    }
   ],
   "source": [
    "\"\"\"\n",
    "DON'T MODIFY ANYTHING IN THIS CELL\n",
    "\"\"\"\n",
    "batches = get_batches(int_text, batch_size, seq_length)\n",
    "\n",
    "with tf.Session(graph=train_graph) as sess:\n",
    "    sess.run(tf.global_variables_initializer())\n",
    "\n",
    "    for epoch_i in range(num_epochs):\n",
    "        state = sess.run(initial_state, {input_text: batches[0][0]})\n",
    "\n",
    "        for batch_i, (x, y) in enumerate(batches):\n",
    "            feed = {\n",
    "                input_text: x,\n",
    "                targets: y,\n",
    "                initial_state: state,\n",
    "                lr: learning_rate}\n",
    "            train_loss, state, _ = sess.run([cost, final_state, train_op], feed)\n",
    "\n",
    "            # Show every <show_every_n_batches> batches\n",
    "            if (epoch_i * len(batches) + batch_i) % show_every_n_batches == 0:\n",
    "                print('Epoch {:>3} Batch {:>4}/{}   train_loss = {:.3f}'.format(\n",
    "                    epoch_i,\n",
    "                    batch_i,\n",
    "                    len(batches),\n",
    "                    train_loss))\n",
    "\n",
    "    # Save Model\n",
    "    saver = tf.train.Saver()\n",
    "    saver.save(sess, save_dir)\n",
    "    print('Model Trained and Saved')"
   ]
  },
  {
   "cell_type": "markdown",
   "metadata": {},
   "source": [
    "## Save Parameters\n",
    "Save `seq_length` and `save_dir` for generating a new TV script."
   ]
  },
  {
   "cell_type": "code",
   "execution_count": 17,
   "metadata": {},
   "outputs": [],
   "source": [
    "\"\"\"\n",
    "DON'T MODIFY ANYTHING IN THIS CELL\n",
    "\"\"\"\n",
    "# Save parameters for checkpoint\n",
    "helper.save_params((seq_length, save_dir))"
   ]
  },
  {
   "cell_type": "markdown",
   "metadata": {},
   "source": [
    "# Checkpoint"
   ]
  },
  {
   "cell_type": "code",
   "execution_count": 18,
   "metadata": {},
   "outputs": [],
   "source": [
    "\"\"\"\n",
    "DON'T MODIFY ANYTHING IN THIS CELL\n",
    "\"\"\"\n",
    "import tensorflow as tf\n",
    "import numpy as np\n",
    "import helper\n",
    "import problem_unittests as tests\n",
    "\n",
    "_, vocab_to_int, int_to_vocab, token_dict = helper.load_preprocess()\n",
    "seq_length, load_dir = helper.load_params()"
   ]
  },
  {
   "cell_type": "markdown",
   "metadata": {},
   "source": [
    "## Implement Generate Functions\n",
    "### Get Tensors\n",
    "Get tensors from `loaded_graph` using the function [`get_tensor_by_name()`](https://www.tensorflow.org/api_docs/python/tf/Graph#get_tensor_by_name).  Get the tensors using the following names:\n",
    "- \"input:0\"\n",
    "- \"initial_state:0\"\n",
    "- \"final_state:0\"\n",
    "- \"probs:0\"\n",
    "\n",
    "Return the tensors in the following tuple `(InputTensor, InitialStateTensor, FinalStateTensor, ProbsTensor)` "
   ]
  },
  {
   "cell_type": "code",
   "execution_count": 19,
   "metadata": {},
   "outputs": [
    {
     "name": "stdout",
     "output_type": "stream",
     "text": [
      "Tests Passed\n"
     ]
    }
   ],
   "source": [
    "def get_tensors(loaded_graph):\n",
    "    \"\"\"\n",
    "    Get input, initial state, final state, and probabilities tensor from <loaded_graph>\n",
    "    :param loaded_graph: TensorFlow graph loaded from file\n",
    "    :return: Tuple (InputTensor, InitialStateTensor, FinalStateTensor, ProbsTensor)\n",
    "    \"\"\"\n",
    "    # TODO: Implement Function\n",
    "    InputTensor = loaded_graph.get_tensor_by_name(\"input:0\")\n",
    "    InitialStateTensor = loaded_graph.get_tensor_by_name(\"initial_state:0\")\n",
    "    FinalStateTensor = loaded_graph.get_tensor_by_name(\"final_state:0\")\n",
    "    ProbsTensor = loaded_graph.get_tensor_by_name(\"probs:0\")\n",
    "    \n",
    "    return (InputTensor, InitialStateTensor, FinalStateTensor, ProbsTensor)\n",
    "\n",
    "\n",
    "\"\"\"\n",
    "DON'T MODIFY ANYTHING IN THIS CELL THAT IS BELOW THIS LINE\n",
    "\"\"\"\n",
    "tests.test_get_tensors(get_tensors)"
   ]
  },
  {
   "cell_type": "markdown",
   "metadata": {},
   "source": [
    "### Choose Word\n",
    "Implement the `pick_word()` function to select the next word using `probabilities`."
   ]
  },
  {
   "cell_type": "code",
   "execution_count": 20,
   "metadata": {},
   "outputs": [
    {
     "name": "stdout",
     "output_type": "stream",
     "text": [
      "Tests Passed\n"
     ]
    }
   ],
   "source": [
    "def pick_word(probabilities, int_to_vocab):\n",
    "    \"\"\"\n",
    "    Pick the next word in the generated text\n",
    "    :param probabilities: Probabilites of the next word\n",
    "    :param int_to_vocab: Dictionary of word ids as the keys and words as the values\n",
    "    :return: String of the predicted word\n",
    "    \"\"\"\n",
    "    # TODO: Implement Function\n",
    "    index = np.argmax(probabilities)\n",
    "    output_word = int_to_vocab[index]\n",
    "    return output_word\n",
    "\n",
    "\n",
    "\"\"\"\n",
    "DON'T MODIFY ANYTHING IN THIS CELL THAT IS BELOW THIS LINE\n",
    "\"\"\"\n",
    "tests.test_pick_word(pick_word)"
   ]
  },
  {
   "cell_type": "markdown",
   "metadata": {},
   "source": [
    "## Generate TV Script\n",
    "This will generate the TV script for you.  Set `gen_length` to the length of TV script you want to generate."
   ]
  },
  {
   "cell_type": "code",
   "execution_count": 21,
   "metadata": {
    "scrolled": false
   },
   "outputs": [
    {
     "name": "stdout",
     "output_type": "stream",
     "text": [
      "INFO:tensorflow:Restoring parameters from ./save\n",
      "moe_szyslak:(as dentist) okay, this might hurt a little.(as patient, cotton in mouth) no problem.\n",
      "moe_szyslak:(in pain) oh, sweet like me.(sips beer)\n",
      "homer_simpson:(happy) who's a pal!(beat) that challenge me to the woman.(sips beer)\n",
      "\n",
      "\n",
      "homer_simpson:(reentering) oh, that, as the good man, i've gotta be okay.\n",
      "\n",
      "\n",
      "moe_szyslak: but you're dea-d-d-dead. we got someone else about\"\n",
      "moe_szyslak:\" sheriff andy, barney!\n",
      "homer_simpson:(upset) hey, hey, hey! hey! yeah, a great of the year. it's a bad friend.\n",
      "waylon_smithers: it's the designated driver!\n",
      "lenny_leonard:(to moe) yeah, i don't want to brag!\n",
      "carl_carlson:(frustrated noise) i'd like a beer!\n",
      "duffman:(very happy) i just got the most job working on me.\n",
      "lenny_leonard: don't you prohibit us from old kinderhook for this.\n",
      "barney_gumble: hey moe.\n",
      "marge_simpson: until you have with the mafia?\n",
      "moe_szyslak:(nods) moe, what do you ever had is it or.\n",
      "moe_szyslak: oh, hey, how about you, lenny?\n",
      "moe_szyslak:(realizing) hey, barney, would you take me into the night i know about.\n",
      "carl_carlson: why can'tcha?\n",
      "moe_szyslak:(uneasy) oh, no, that's the kinda thing you just gotta do that--\n",
      "barney_gumble:(walking sigh) it's the best thing we ever heard, huh?\n",
      "moe_szyslak: eh, the duff is!\n",
      "moe_szyslak:(distraught) hey, moe, sure. i had a thing you'd say.\n",
      "marge_simpson:(sings) mock...\n",
      "homer_simpson:(\" shoo fly) but on the ball... i'll keep another one.\n",
      "moe_szyslak:(nervous chuckle) that's right. but the only dangerous amount?\n",
      "\n",
      "\n",
      "homer_simpson:(reading)\" world's worst friend.\"\n",
      "homer_simpson: shut up, and i don't know, the padres will save your days.\n",
      "barney_gumble: my name... moe?\n",
      "moe_szyslak: yeah, i need to go under the bar while you saw this.\n",
      "carl_carlson:(quietly) oh, no.\n",
      "moe_szyslak: yeah, i don't know.(looking around, sees jar) oh yeah, that's a bad girl, i do is to a hundred and city.\n",
      "moe_szyslak: aw, quit your belly-aching, ya big man!\n",
      "moe_szyslak: well, why don't you like to me that now, or do it.\n",
      "carl_carlson: and prohibit were good and you're not like about it.\n"
     ]
    }
   ],
   "source": [
    "gen_length = 500\n",
    "# homer_simpson, moe_szyslak, or Barney_Gumble\n",
    "prime_word = 'moe_szyslak'\n",
    "\n",
    "\"\"\"\n",
    "DON'T MODIFY ANYTHING IN THIS CELL THAT IS BELOW THIS LINE\n",
    "\"\"\"\n",
    "loaded_graph = tf.Graph()\n",
    "with tf.Session(graph=loaded_graph) as sess:\n",
    "    # Load saved model\n",
    "    loader = tf.train.import_meta_graph(load_dir + '.meta')\n",
    "    loader.restore(sess, load_dir)\n",
    "\n",
    "    # Get Tensors from loaded model\n",
    "    input_text, initial_state, final_state, probs = get_tensors(loaded_graph)\n",
    "\n",
    "    # Sentences generation setup\n",
    "    gen_sentences = [prime_word + ':']\n",
    "    prev_state = sess.run(initial_state, {input_text: np.array([[1]])})\n",
    "\n",
    "    # Generate sentences\n",
    "    for n in range(gen_length):\n",
    "        # Dynamic Input\n",
    "        dyn_input = [[vocab_to_int[word] for word in gen_sentences[-seq_length:]]]\n",
    "        dyn_seq_length = len(dyn_input[0])\n",
    "\n",
    "        # Get Prediction\n",
    "        probabilities, prev_state = sess.run(\n",
    "            [probs, final_state],\n",
    "            {input_text: dyn_input, initial_state: prev_state})\n",
    "        \n",
    "        pred_word = pick_word(probabilities[0][dyn_seq_length-1], int_to_vocab)\n",
    "\n",
    "        gen_sentences.append(pred_word)\n",
    "    \n",
    "    # Remove tokens\n",
    "    tv_script = ' '.join(gen_sentences)\n",
    "    for key, token in token_dict.items():\n",
    "        ending = ' ' if key in ['\\n', '(', '\"'] else ''\n",
    "        tv_script = tv_script.replace(' ' + token.lower(), key)\n",
    "    tv_script = tv_script.replace('\\n ', '\\n')\n",
    "    tv_script = tv_script.replace('( ', '(')\n",
    "        \n",
    "    print(tv_script)"
   ]
  },
 ],
 "metadata": {
  "kernelspec": {
   "display_name": "Python 3",
   "language": "python",
   "name": "python3"
  },
  "language_info": {
   "codemirror_mode": {
    "name": "ipython",
    "version": 3
   },
   "file_extension": ".py",
   "mimetype": "text/x-python",
   "name": "python",
   "nbconvert_exporter": "python",
   "pygments_lexer": "ipython3",
   "version": "3.6.3"
  },
  "widgets": {
   "state": {},
   "version": "1.1.2"
  }
 },
 "nbformat": 4,
 "nbformat_minor": 1
}
